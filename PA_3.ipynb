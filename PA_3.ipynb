{
 "cells": [
  {
   "cell_type": "code",
   "execution_count": null,
   "id": "20133bb2",
   "metadata": {},
   "outputs": [],
   "source": [
    "1. Write a Python Program to Check if a Number is Positive, Negative or Zero?\n",
    "2. Write a Python Program to Check if a Number is Odd or Even?\n",
    "3. Write a Python Program to Check Leap Year?\n",
    "4. Write a Python Program to Check Prime Number?\n",
    "5. Write a Python Program to Print all Prime Numbers in an Interval of 1-10000?"
   ]
  },
  {
   "cell_type": "code",
   "execution_count": 3,
   "id": "18c851c1",
   "metadata": {},
   "outputs": [
    {
     "data": {
      "text/plain": [
       "'Zero'"
      ]
     },
     "execution_count": 3,
     "metadata": {},
     "output_type": "execute_result"
    }
   ],
   "source": [
    "#Write a Python Program to Check if a Number is Positive, Negative or Zero?\n",
    "\n",
    "def check_num(n):\n",
    "    if n < 0:\n",
    "        return 'Negative'\n",
    "    elif n > 0:\n",
    "        return 'Positive'\n",
    "    else:\n",
    "        return 'Zero'\n",
    "\n",
    "check_num(0)"
   ]
  },
  {
   "cell_type": "code",
   "execution_count": 8,
   "id": "c6003297",
   "metadata": {},
   "outputs": [
    {
     "data": {
      "text/plain": [
       "'Odd'"
      ]
     },
     "execution_count": 8,
     "metadata": {},
     "output_type": "execute_result"
    }
   ],
   "source": [
    "#Write a Python Program to Check if a Number is Odd or Even?\n",
    "\n",
    "def odd_even(m):\n",
    "    if m % 2 == 0:\n",
    "        return 'Even'\n",
    "    else:\n",
    "        return 'Odd'\n",
    "    \n",
    "odd_even(67)"
   ]
  },
  {
   "cell_type": "code",
   "execution_count": 10,
   "id": "c7f3fed7",
   "metadata": {},
   "outputs": [
    {
     "data": {
      "text/plain": [
       "'Leap year'"
      ]
     },
     "execution_count": 10,
     "metadata": {},
     "output_type": "execute_result"
    }
   ],
   "source": [
    "#Write a Python Program to Check Leap Year?\n",
    "\n",
    "def leap_year(yy):\n",
    "    if yy % 400 ==0 and yy % 100 == 0:\n",
    "        return 'Leap year'\n",
    "    elif yy % 4 ==0 and yy % 100 != 0:\n",
    "        return 'Leap year'\n",
    "    else:\n",
    "        return 'Not Leap year'\n",
    "    \n",
    "leap_year(2000)\n",
    "    "
   ]
  },
  {
   "cell_type": "code",
   "execution_count": 68,
   "id": "6cca4413",
   "metadata": {},
   "outputs": [
    {
     "data": {
      "text/plain": [
       "'Prime'"
      ]
     },
     "execution_count": 68,
     "metadata": {},
     "output_type": "execute_result"
    }
   ],
   "source": [
    "#Write a Python Program to Check Prime Number?\n",
    "\n",
    "def is_prime(num):\n",
    "    for i in range(2,num):\n",
    "        if num % i == 0:\n",
    "            return 'Not Prime'\n",
    "        else:\n",
    "            return 'Prime'\n",
    "is_prime(7)"
   ]
  },
  {
   "cell_type": "code",
   "execution_count": 76,
   "id": "f28096a9",
   "metadata": {},
   "outputs": [
    {
     "name": "stdout",
     "output_type": "stream",
     "text": [
      "11\n",
      "13\n",
      "17\n",
      "19\n",
      "23\n",
      "29\n",
      "31\n",
      "37\n",
      "41\n",
      "43\n",
      "47\n",
      "53\n",
      "59\n",
      "61\n",
      "67\n",
      "71\n",
      "73\n",
      "79\n",
      "83\n",
      "89\n",
      "97\n"
     ]
    }
   ],
   "source": [
    "#Write a Python Program to Print all Prime Numbers in an Interval of 1-10000?\n",
    "\n",
    "def print_prime(lower, upper):\n",
    "    for num in range(lower, upper + 1):\n",
    "       # all prime numbers are greater than 1\n",
    "       if num > 1:\n",
    "           for i in range(2, num):\n",
    "               if (num % i) == 0:\n",
    "                   break\n",
    "           else:\n",
    "               print(num)\n",
    "                                \n",
    "            \n",
    "print_prime(10,100)"
   ]
  }
 ],
 "metadata": {
  "kernelspec": {
   "display_name": "Python 3 (ipykernel)",
   "language": "python",
   "name": "python3"
  },
  "language_info": {
   "codemirror_mode": {
    "name": "ipython",
    "version": 3
   },
   "file_extension": ".py",
   "mimetype": "text/x-python",
   "name": "python",
   "nbconvert_exporter": "python",
   "pygments_lexer": "ipython3",
   "version": "3.9.12"
  }
 },
 "nbformat": 4,
 "nbformat_minor": 5
}
