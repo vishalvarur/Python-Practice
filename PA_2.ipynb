{
 "cells": [
  {
   "cell_type": "code",
   "execution_count": null,
   "id": "b03cf928",
   "metadata": {},
   "outputs": [],
   "source": [
    "1. Write a Python program to convert kilometers to miles?\n",
    "2. Write a Python program to convert Celsius to Fahrenheit?\n",
    "3. Write a Python program to display calendar?\n",
    "4. Write a Python program to solve quadratic equation?\n",
    "5. Write a Python program to swap two variables without temp variable?"
   ]
  },
  {
   "cell_type": "code",
   "execution_count": 1,
   "id": "d807a1f0",
   "metadata": {},
   "outputs": [
    {
     "data": {
      "text/plain": [
       "6.21371"
      ]
     },
     "execution_count": 1,
     "metadata": {},
     "output_type": "execute_result"
    }
   ],
   "source": [
    "def km_to_miles(km):\n",
    "    return km*0.621371\n",
    "\n",
    "km_to_miles(10)"
   ]
  },
  {
   "cell_type": "code",
   "execution_count": 2,
   "id": "7e8ea336",
   "metadata": {},
   "outputs": [
    {
     "data": {
      "text/plain": [
       "77.0"
      ]
     },
     "execution_count": 2,
     "metadata": {},
     "output_type": "execute_result"
    }
   ],
   "source": [
    "def cel_to_fahr(cel):\n",
    "    return (cel * (9/5)) + 32\n",
    "\n",
    "cel_to_fahr(25)"
   ]
  },
  {
   "cell_type": "code",
   "execution_count": 6,
   "id": "50b2eba6",
   "metadata": {},
   "outputs": [
    {
     "data": {
      "text/plain": [
       "'   February 2000\\nMo Tu We Th Fr Sa Su\\n    1  2  3  4  5  6\\n 7  8  9 10 11 12 13\\n14 15 16 17 18 19 20\\n21 22 23 24 25 26 27\\n28 29\\n'"
      ]
     },
     "execution_count": 6,
     "metadata": {},
     "output_type": "execute_result"
    }
   ],
   "source": [
    "import calendar\n",
    "\n",
    "def month(year, month):\n",
    "    return calendar.month(year, month)\n",
    "\n",
    "month(2000,2)"
   ]
  },
  {
   "cell_type": "code",
   "execution_count": 8,
   "id": "412fe192",
   "metadata": {},
   "outputs": [
    {
     "data": {
      "text/plain": [
       "(5.0, 2.0)"
      ]
     },
     "execution_count": 8,
     "metadata": {},
     "output_type": "execute_result"
    }
   ],
   "source": [
    "import math\n",
    "\n",
    "def quad_eqn(a,b,c):\n",
    "    x = (-b + math.sqrt(b**2 - 4*a*c))/ (2*a)\n",
    "    y = (-b - math.sqrt(b**2 - 4*a*c))/ (2*a)    \n",
    "    return x, y\n",
    "\n",
    "quad_eqn(1, -7, 10)"
   ]
  },
  {
   "cell_type": "code",
   "execution_count": null,
   "id": "5b884dee",
   "metadata": {},
   "outputs": [],
   "source": [
    "def swap_numbers(a,b):\n",
    "    a,b = b,a\n",
    "    return a,b\n",
    "\n",
    "swap_numbers(5,6)"
   ]
  }
 ],
 "metadata": {
  "kernelspec": {
   "display_name": "Python 3 (ipykernel)",
   "language": "python",
   "name": "python3"
  },
  "language_info": {
   "codemirror_mode": {
    "name": "ipython",
    "version": 3
   },
   "file_extension": ".py",
   "mimetype": "text/x-python",
   "name": "python",
   "nbconvert_exporter": "python",
   "pygments_lexer": "ipython3",
   "version": "3.9.12"
  }
 },
 "nbformat": 4,
 "nbformat_minor": 5
}
